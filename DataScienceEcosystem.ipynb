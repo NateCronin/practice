{
 "cells": [
  {
   "cell_type": "markdown",
   "id": "0930f20d-08bb-45eb-b99b-3e6485a4ae1f",
   "metadata": {
    "panel-layout": {
     "height": 60.5938,
     "visible": true,
     "width": 100
    }
   },
   "source": [
    "# Data Science Tools & Ecoystem"
   ]
  },
  {
   "cell_type": "markdown",
   "id": "bdafdf3f-8f72-4769-867c-14cb3d5ec392",
   "metadata": {
    "panel-layout": {
     "height": 51.1406,
     "visible": true,
     "width": 100
    }
   },
   "source": [
    "In this notebook, data science tools and Ecosystem are summarized "
   ]
  },
  {
   "cell_type": "markdown",
   "id": "ac8d4df8-0f21-4aca-af3b-18cd8638421c",
   "metadata": {
    "panel-layout": {
     "height": 114.562,
     "visible": true,
     "width": 100
    }
   },
   "source": [
    "**Objectives:**\n",
    "- Learn basic Python syntax and expressions\n",
    "- Working with Git Repos\n",
    "- Creating visualizations with R"
   ]
  },
  {
   "cell_type": "markdown",
   "id": "082951bc-53b9-4a64-83ba-c4f57b612ddf",
   "metadata": {
    "panel-layout": {
     "height": 114.562,
     "visible": true,
     "width": 100
    }
   },
   "source": [
    "Some of the popular languages that data scientists use are:\n",
    "1. Python\n",
    "2. R\n",
    "3. C++"
   ]
  },
  {
   "cell_type": "markdown",
   "id": "2a78afc1-0351-4fae-87a5-9d86fdb147f2",
   "metadata": {
    "panel-layout": {
     "height": 114.562,
     "visible": true,
     "width": 100
    }
   },
   "source": [
    "Some of the commonly used libraries are:\n",
    "1. Pandas\n",
    "2. Numpy \n",
    "3. Matplotlib"
   ]
  },
  {
   "cell_type": "markdown",
   "id": "6d5a03db-462b-4efc-b7f0-57430f259ea8",
   "metadata": {
    "panel-layout": {
     "height": 123.562,
     "visible": true,
     "width": 100
    }
   },
   "source": [
    "|Data Science Tools|\n",
    "|------------------|\n",
    "|Jupyter Lab|\n",
    "|Github|\n",
    "|Apache Spark|"
   ]
  },
  {
   "cell_type": "markdown",
   "id": "8e4ff6f7-c4c8-472d-89fc-c5949191dcd5",
   "metadata": {
    "panel-layout": {
     "height": 44.0938,
     "visible": true,
     "width": 100
    }
   },
   "source": [
    "### Evaluating arithmetic expressions in Python Examples:"
   ]
  },
  {
   "cell_type": "code",
   "execution_count": 9,
   "id": "9e54086c-46bc-4cbd-a028-2348de577ed1",
   "metadata": {
    "panel-layout": {
     "height": 27.1406,
     "visible": true,
     "width": 100
    }
   },
   "outputs": [
    {
     "data": {
      "text/plain": [
       "17"
      ]
     },
     "execution_count": 9,
     "metadata": {},
     "output_type": "execute_result"
    }
   ],
   "source": [
    "# This is a simple arithmetic expression to multiply then add integers\n",
    "(3*4) + 5"
   ]
  },
  {
   "cell_type": "code",
   "execution_count": 10,
   "id": "d3e8f216-7f87-4c56-a709-c82d6243aacd",
   "metadata": {
    "panel-layout": {
     "height": 27.1406,
     "visible": true,
     "width": 100
    }
   },
   "outputs": [
    {
     "data": {
      "text/plain": [
       "3.3333333333333335"
      ]
     },
     "execution_count": 10,
     "metadata": {},
     "output_type": "execute_result"
    }
   ],
   "source": [
    "# This will convert 200 minutes to hours by dividing by 60\n",
    "200/60"
   ]
  },
  {
   "cell_type": "markdown",
   "id": "6291c2e0-9262-41b9-bff6-d297c756e914",
   "metadata": {
    "panel-layout": {
     "height": 84.3906,
     "visible": true,
     "width": 100
    }
   },
   "source": [
    "## Author\n",
    "Nathan Cronin"
   ]
  }
 ],
 "metadata": {
  "kernelspec": {
   "display_name": "Python 3 (ipykernel)",
   "language": "python",
   "name": "python3"
  },
  "language_info": {
   "codemirror_mode": {
    "name": "ipython",
    "version": 3
   },
   "file_extension": ".py",
   "mimetype": "text/x-python",
   "name": "python",
   "nbconvert_exporter": "python",
   "pygments_lexer": "ipython3",
   "version": "3.12.4"
  },
  "panel-cell-order": [
   "0930f20d-08bb-45eb-b99b-3e6485a4ae1f",
   "bdafdf3f-8f72-4769-867c-14cb3d5ec392",
   "082951bc-53b9-4a64-83ba-c4f57b612ddf",
   "2a78afc1-0351-4fae-87a5-9d86fdb147f2",
   "6d5a03db-462b-4efc-b7f0-57430f259ea8",
   "ac8d4df8-0f21-4aca-af3b-18cd8638421c",
   "8e4ff6f7-c4c8-472d-89fc-c5949191dcd5",
   "9e54086c-46bc-4cbd-a028-2348de577ed1",
   "d3e8f216-7f87-4c56-a709-c82d6243aacd",
   "6291c2e0-9262-41b9-bff6-d297c756e914"
  ]
 },
 "nbformat": 4,
 "nbformat_minor": 5
}
